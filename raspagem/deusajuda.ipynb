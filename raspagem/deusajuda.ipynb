{
  "cells": [
    {
      "cell_type": "markdown",
      "source": [
        "# Aula 9 - Trabalho extra (Erik)\n",
        "\n",
        "Importações de bibliotecas "
      ],
      "metadata": {},
      "id": "4d3f20a6"
    },
    {
      "cell_type": "code",
      "source": [
        "import requests\n",
        "from bs4 import BeautifulSoup\n",
        "import pandas as pd"
      ],
      "outputs": [
        {
          "output_type": "stream",
          "name": "stdout",
          "text": "               team_name  year wins losses ot_losses win_percent goals_for  \\\n0          Boston Bruins  1990   44     24                  0.55       299   \n1         Buffalo Sabres  1990   31     30                 0.388       292   \n2         Calgary Flames  1990   46     26                 0.575       344   \n3     Chicago Blackhawks  1990   49     23                 0.613       284   \n4      Detroit Red Wings  1990   34     38                 0.425       273   \n..                   ...   ...  ...    ...       ...         ...       ...   \n602  Tampa Bay Lightning  2011   38     36         8       0.463       235   \n603  Toronto Maple Leafs  2011   35     37        10       0.427       231   \n604    Vancouver Canucks  2011   51     22         9       0.622       249   \n605  Washington Capitals  2011   42     32         8       0.512       222   \n606        Winnipeg Jets  2011   37     35        10       0.451       225   \n\n    goals_against plus_minus  \n0             264         35  \n1             278         14  \n2             263         81  \n3             211         73  \n4             298        -25  \n..            ...        ...  \n602           281        -46  \n603           264        -33  \n604           198         51  \n605           230         -8  \n606           246        -21  \n\n[607 rows x 9 columns]\n"
        }
      ],
      "execution_count": null,
      "metadata": {},
      "id": "e0d3ebf7"
    },
    {
      "cell_type": "markdown",
      "source": [
        "Settando o site"
      ],
      "metadata": {},
      "id": "9217b358"
    },
    {
      "cell_type": "code",
      "source": [
        "# URL inicial\n",
        "base_url = 'https://www.scrapethissite.com'\n",
        "url = '/pages/forms/'\n",
        "\n",
        "# Lista para armazenar os dados\n",
        "lista_times = []\n"
      ],
      "outputs": [],
      "execution_count": 6,
      "metadata": {},
      "id": "f5d8e6ea"
    },
    {
      "cell_type": "markdown",
      "source": [
        "Criando a lógica"
      ],
      "metadata": {},
      "id": "b87d6699"
    },
    {
      "cell_type": "code",
      "source": [
        "while url:\n",
        "    response = requests.get(base_url + url)\n",
        "    soup = BeautifulSoup(response.content, 'html.parser')\n",
        "\n",
        "    # Encontrando a tabela\n",
        "    table = soup.find('table', {'class': 'table'})\n",
        "    \n",
        "    for row in table.find_all('tr')[1:]:\n",
        "        cols = row.find_all('td')\n",
        "        if cols:\n",
        "            team_data = {\n",
        "                'team_name': cols[0].text.strip(),\n",
        "                'year': cols[1].text.strip(),\n",
        "                'wins': cols[2].text.strip(),\n",
        "                'losses': cols[3].text.strip(),\n",
        "                'ot_losses': cols[4].text.strip(),\n",
        "                'win_percent': cols[5].text.strip(),\n",
        "                'goals_for': cols[6].text.strip(),\n",
        "                'goals_against': cols[7].text.strip(),\n",
        "                'plus_minus': cols[8].text.strip()\n",
        "            }\n",
        "            lista_times.append(team_data)\n",
        "\n",
        "    # Procurando o botão \"Próximo\"\n",
        "    botao_prox = soup.find('a', attrs={'aria-label': 'Next'})\n",
        "    if botao_prox and 'href' in botao_prox.attrs:\n",
        "        url = botao_prox['href']\n",
        "    else:\n",
        "        url = None  # Encerra o loop"
      ],
      "outputs": [],
      "execution_count": 7,
      "metadata": {},
      "id": "c51469d7"
    },
    {
      "cell_type": "markdown",
      "source": [
        "Transformando em dataframe e exibindo"
      ],
      "metadata": {},
      "id": "e389549b"
    },
    {
      "cell_type": "code",
      "source": [
        "# Convertendo para DataFrame\n",
        "df_times = pd.DataFrame(lista_times)\n",
        "print(df_times)"
      ],
      "outputs": [
        {
          "output_type": "stream",
          "name": "stdout",
          "text": "               team_name  year wins losses ot_losses win_percent goals_for  \\\n0          Boston Bruins  1990   44     24                  0.55       299   \n1         Buffalo Sabres  1990   31     30                 0.388       292   \n2         Calgary Flames  1990   46     26                 0.575       344   \n3     Chicago Blackhawks  1990   49     23                 0.613       284   \n4      Detroit Red Wings  1990   34     38                 0.425       273   \n..                   ...   ...  ...    ...       ...         ...       ...   \n602  Tampa Bay Lightning  2011   38     36         8       0.463       235   \n603  Toronto Maple Leafs  2011   35     37        10       0.427       231   \n604    Vancouver Canucks  2011   51     22         9       0.622       249   \n605  Washington Capitals  2011   42     32         8       0.512       222   \n606        Winnipeg Jets  2011   37     35        10       0.451       225   \n\n    goals_against plus_minus  \n0             264         35  \n1             278         14  \n2             263         81  \n3             211         73  \n4             298        -25  \n..            ...        ...  \n602           281        -46  \n603           264        -33  \n604           198         51  \n605           230         -8  \n606           246        -21  \n\n[607 rows x 9 columns]\n"
        }
      ],
      "execution_count": 8,
      "metadata": {},
      "id": "9da6ed7a"
    }
  ],
  "metadata": {
    "kernelspec": {
      "name": "python",
      "language": "python",
      "display_name": "Pyolite (preview)"
    },
    "language_info": {
      "codemirror_mode": {
        "name": "python",
        "version": 3
      },
      "file_extension": ".py",
      "mimetype": "text/x-python",
      "name": "python",
      "nbconvert_exporter": "python",
      "pygments_lexer": "ipython3",
      "version": "3.8"
    },
    "kernel_info": {
      "name": "python"
    },
    "nteract": {
      "version": "nteract-front-end@1.0.0"
    }
  },
  "nbformat": 4,
  "nbformat_minor": 5
}